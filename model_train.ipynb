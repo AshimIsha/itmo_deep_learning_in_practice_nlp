{
 "cells": [
  {
   "cell_type": "code",
   "execution_count": 1,
   "id": "86d4a93b",
   "metadata": {},
   "outputs": [],
   "source": [
    "import os\n",
    "import re\n",
    "import PyPDF2\n",
    "import pdfplumber\n",
    "\n",
    "import numpy as np\n",
    "import pandas as pd\n",
    "\n",
    "import torch\n",
    "import evaluate\n",
    " \n",
    "from transformers import (\n",
    "    T5Tokenizer,\n",
    "    T5ForConditionalGeneration,\n",
    "    TrainingArguments,\n",
    "    Trainer\n",
    ")\n",
    "from datasets import load_dataset, Dataset\n"
   ]
  },
  {
   "cell_type": "markdown",
   "id": "6eb51581",
   "metadata": {},
   "source": [
    "# Подготовка данных"
   ]
  },
  {
   "cell_type": "code",
   "execution_count": 2,
   "id": "bc4bc724",
   "metadata": {},
   "outputs": [],
   "source": [
    "data_vacancy_hh = pd.read_csv('hhparser_vacancy.csv', on_bad_lines='skip') #, delimiter='|')"
   ]
  },
  {
   "cell_type": "code",
   "execution_count": 3,
   "id": "1001c8b4",
   "metadata": {},
   "outputs": [
    {
     "data": {
      "text/html": [
       "<div>\n",
       "<style scoped>\n",
       "    .dataframe tbody tr th:only-of-type {\n",
       "        vertical-align: middle;\n",
       "    }\n",
       "\n",
       "    .dataframe tbody tr th {\n",
       "        vertical-align: top;\n",
       "    }\n",
       "\n",
       "    .dataframe thead th {\n",
       "        text-align: right;\n",
       "    }\n",
       "</style>\n",
       "<table border=\"1\" class=\"dataframe\">\n",
       "  <thead>\n",
       "    <tr style=\"text-align: right;\">\n",
       "      <th></th>\n",
       "      <th>id</th>\n",
       "      <th>name</th>\n",
       "      <th>has_test</th>\n",
       "      <th>response_letter_required</th>\n",
       "      <th>salary_from</th>\n",
       "      <th>salary_to</th>\n",
       "      <th>salary_currency</th>\n",
       "      <th>salary_gross</th>\n",
       "      <th>published_at</th>\n",
       "      <th>created_at</th>\n",
       "      <th>parsed_at</th>\n",
       "      <th>url</th>\n",
       "      <th>employer_name</th>\n",
       "      <th>description</th>\n",
       "      <th>alternate_url</th>\n",
       "      <th>area_id</th>\n",
       "      <th>area_name</th>\n",
       "    </tr>\n",
       "  </thead>\n",
       "  <tbody>\n",
       "    <tr>\n",
       "      <th>0</th>\n",
       "      <td>38228194</td>\n",
       "      <td>Project R’n’D / Технолог R’n’D</td>\n",
       "      <td>False</td>\n",
       "      <td>True</td>\n",
       "      <td>NaN</td>\n",
       "      <td>NaN</td>\n",
       "      <td>NaN</td>\n",
       "      <td>NaN</td>\n",
       "      <td>2020-07-26 23:40:42+00</td>\n",
       "      <td>2020-07-26 23:40:42+00</td>\n",
       "      <td>2020-07-27 03:03:03.154874+00</td>\n",
       "      <td>https://api.hh.ru/vacancies/38228194?host=hh.ru</td>\n",
       "      <td>Масл фектори</td>\n",
       "      <td>&lt;p&gt;&lt;strong&gt;MF Kitchen&lt;/strong&gt; — группа компан...</td>\n",
       "      <td>https://hh.ru/vacancy/38228194</td>\n",
       "      <td>1</td>\n",
       "      <td>Москва</td>\n",
       "    </tr>\n",
       "    <tr>\n",
       "      <th>1</th>\n",
       "      <td>36911636</td>\n",
       "      <td>Продавец-кассир (Москва, Богданова, 16)</td>\n",
       "      <td>False</td>\n",
       "      <td>False</td>\n",
       "      <td>33500.0</td>\n",
       "      <td>40000.0</td>\n",
       "      <td>RUR</td>\n",
       "      <td>True</td>\n",
       "      <td>2020-07-27 00:28:12+00</td>\n",
       "      <td>2020-07-27 00:28:12+00</td>\n",
       "      <td>2020-07-27 03:03:04.258759+00</td>\n",
       "      <td>https://api.hh.ru/vacancies/36911636?host=hh.ru</td>\n",
       "      <td>Пятёрочка</td>\n",
       "      <td>&lt;p&gt;&lt;strong&gt;Обязанности:&lt;/strong&gt;&lt;/p&gt;&lt;ul&gt;&lt;li&gt;Об...</td>\n",
       "      <td>https://hh.ru/vacancy/36911636</td>\n",
       "      <td>1</td>\n",
       "      <td>Москва</td>\n",
       "    </tr>\n",
       "    <tr>\n",
       "      <th>2</th>\n",
       "      <td>36909000</td>\n",
       "      <td>Продавец-кассир (Москва, Новогиреевская, 11/36)</td>\n",
       "      <td>False</td>\n",
       "      <td>False</td>\n",
       "      <td>33500.0</td>\n",
       "      <td>38000.0</td>\n",
       "      <td>RUR</td>\n",
       "      <td>True</td>\n",
       "      <td>2020-08-24 00:16:48+00</td>\n",
       "      <td>2020-08-24 00:16:48+00</td>\n",
       "      <td>2020-08-24 02:59:43.766137+00</td>\n",
       "      <td>https://api.hh.ru/vacancies/36909000?host=hh.ru</td>\n",
       "      <td>Пятёрочка</td>\n",
       "      <td>&lt;p&gt;&lt;strong&gt;Обязанности:&lt;/strong&gt;&lt;/p&gt;&lt;ul&gt;&lt;li&gt;Об...</td>\n",
       "      <td>https://hh.ru/vacancy/36909000</td>\n",
       "      <td>1</td>\n",
       "      <td>Москва</td>\n",
       "    </tr>\n",
       "    <tr>\n",
       "      <th>3</th>\n",
       "      <td>38985954</td>\n",
       "      <td>Product owner бизнес–стрима \"Аналитика и Отчет...</td>\n",
       "      <td>False</td>\n",
       "      <td>False</td>\n",
       "      <td>NaN</td>\n",
       "      <td>NaN</td>\n",
       "      <td>NaN</td>\n",
       "      <td>NaN</td>\n",
       "      <td>2020-09-08 18:29:25+00</td>\n",
       "      <td>2020-09-08 18:29:25+00</td>\n",
       "      <td>2020-09-08 19:02:47.261747+00</td>\n",
       "      <td>https://api.hh.ru/vacancies/38985954?host=hh.ru</td>\n",
       "      <td>Банк ВТБ (ПАО)</td>\n",
       "      <td>&lt;p&gt;Наша позиция предполагает участие в програм...</td>\n",
       "      <td>https://hh.ru/vacancy/38985954</td>\n",
       "      <td>1</td>\n",
       "      <td>Москва</td>\n",
       "    </tr>\n",
       "    <tr>\n",
       "      <th>4</th>\n",
       "      <td>40108800</td>\n",
       "      <td>Business Development Director (CTO)</td>\n",
       "      <td>False</td>\n",
       "      <td>False</td>\n",
       "      <td>NaN</td>\n",
       "      <td>NaN</td>\n",
       "      <td>NaN</td>\n",
       "      <td>NaN</td>\n",
       "      <td>2020-11-25 08:56:45+00</td>\n",
       "      <td>2020-11-25 08:56:45+00</td>\n",
       "      <td>2020-11-28 06:59:37.872153+00</td>\n",
       "      <td>https://api.hh.ru/vacancies/40108800?host=hh.ru</td>\n",
       "      <td>Студия Олега Чулакова</td>\n",
       "      <td>&lt;p&gt;Студия Олега Чулакова — это дизайн-студия №...</td>\n",
       "      <td>https://hh.ru/vacancy/40108800</td>\n",
       "      <td>1</td>\n",
       "      <td>Москва</td>\n",
       "    </tr>\n",
       "    <tr>\n",
       "      <th>...</th>\n",
       "      <td>...</td>\n",
       "      <td>...</td>\n",
       "      <td>...</td>\n",
       "      <td>...</td>\n",
       "      <td>...</td>\n",
       "      <td>...</td>\n",
       "      <td>...</td>\n",
       "      <td>...</td>\n",
       "      <td>...</td>\n",
       "      <td>...</td>\n",
       "      <td>...</td>\n",
       "      <td>...</td>\n",
       "      <td>...</td>\n",
       "      <td>...</td>\n",
       "      <td>...</td>\n",
       "      <td>...</td>\n",
       "      <td>...</td>\n",
       "    </tr>\n",
       "    <tr>\n",
       "      <th>96220</th>\n",
       "      <td>38834939</td>\n",
       "      <td>Оператор 1C</td>\n",
       "      <td>False</td>\n",
       "      <td>False</td>\n",
       "      <td>48000.0</td>\n",
       "      <td>NaN</td>\n",
       "      <td>RUR</td>\n",
       "      <td>True</td>\n",
       "      <td>2020-08-26 06:52:49+00</td>\n",
       "      <td>2020-08-26 06:52:49+00</td>\n",
       "      <td>2020-08-26 07:02:58.340756+00</td>\n",
       "      <td>https://api.hh.ru/vacancies/38834939?host=hh.ru</td>\n",
       "      <td>ТД ЛФБ</td>\n",
       "      <td>&lt;p&gt; &lt;/p&gt; &lt;p&gt;ТД «ЛФБ» - семейная компания, веде...</td>\n",
       "      <td>https://hh.ru/vacancy/38834939</td>\n",
       "      <td>1</td>\n",
       "      <td>Москва</td>\n",
       "    </tr>\n",
       "    <tr>\n",
       "      <th>96221</th>\n",
       "      <td>37345373</td>\n",
       "      <td>Стажер Управления финансирования торговли</td>\n",
       "      <td>False</td>\n",
       "      <td>False</td>\n",
       "      <td>40000.0</td>\n",
       "      <td>40000.0</td>\n",
       "      <td>RUR</td>\n",
       "      <td>True</td>\n",
       "      <td>2020-07-25 13:23:01+00</td>\n",
       "      <td>2020-07-25 13:23:01+00</td>\n",
       "      <td>2020-07-28 11:01:18.939989+00</td>\n",
       "      <td>https://api.hh.ru/vacancies/37345373?host=hh.ru</td>\n",
       "      <td>UniCredit Bank</td>\n",
       "      <td>&lt;p&gt;КРАТКАЯ ИНФОРМАЦИЯ:&lt;/p&gt; &lt;p&gt;Отдел финансиров...</td>\n",
       "      <td>https://hh.ru/vacancy/37345373</td>\n",
       "      <td>1</td>\n",
       "      <td>Москва</td>\n",
       "    </tr>\n",
       "    <tr>\n",
       "      <th>96222</th>\n",
       "      <td>38602820</td>\n",
       "      <td>Преподаватель математики/информатики</td>\n",
       "      <td>False</td>\n",
       "      <td>False</td>\n",
       "      <td>NaN</td>\n",
       "      <td>NaN</td>\n",
       "      <td>NaN</td>\n",
       "      <td>NaN</td>\n",
       "      <td>2020-08-13 16:30:47+00</td>\n",
       "      <td>2020-08-13 16:30:47+00</td>\n",
       "      <td>2020-08-15 07:01:49.548725+00</td>\n",
       "      <td>https://api.hh.ru/vacancies/38602820?host=hh.ru</td>\n",
       "      <td>Центр дополнительного образования Новый Взгляд</td>\n",
       "      <td>&lt;p&gt;&lt;strong&gt;Обязанности:&lt;/strong&gt;&lt;/p&gt; &lt;p&gt; &lt;/p&gt; ...</td>\n",
       "      <td>https://hh.ru/vacancy/38602820</td>\n",
       "      <td>1</td>\n",
       "      <td>Москва</td>\n",
       "    </tr>\n",
       "    <tr>\n",
       "      <th>96223</th>\n",
       "      <td>35870421</td>\n",
       "      <td>Программист С++ / Linux</td>\n",
       "      <td>False</td>\n",
       "      <td>False</td>\n",
       "      <td>NaN</td>\n",
       "      <td>NaN</td>\n",
       "      <td>NaN</td>\n",
       "      <td>NaN</td>\n",
       "      <td>2020-07-25 06:56:59+00</td>\n",
       "      <td>2020-07-25 06:56:59+00</td>\n",
       "      <td>2020-07-27 07:01:31.732133+00</td>\n",
       "      <td>https://api.hh.ru/vacancies/35870421?host=hh.ru</td>\n",
       "      <td>Военно-космическая академия имени А.Ф. Можайского</td>\n",
       "      <td>&lt;p&gt;&lt;strong&gt;Требования:&lt;/strong&gt;&lt;/p&gt; &lt;ul&gt; &lt;li&gt;З...</td>\n",
       "      <td>https://hh.ru/vacancy/35870421</td>\n",
       "      <td>2</td>\n",
       "      <td>Санкт-Петербург</td>\n",
       "    </tr>\n",
       "    <tr>\n",
       "      <th>96224</th>\n",
       "      <td>37847393</td>\n",
       "      <td>Бухгалтер</td>\n",
       "      <td>False</td>\n",
       "      <td>False</td>\n",
       "      <td>50000.0</td>\n",
       "      <td>NaN</td>\n",
       "      <td>RUR</td>\n",
       "      <td>True</td>\n",
       "      <td>2020-08-09 06:29:01+00</td>\n",
       "      <td>2020-08-09 06:29:01+00</td>\n",
       "      <td>2020-08-09 07:03:05.742439+00</td>\n",
       "      <td>https://api.hh.ru/vacancies/37847393?host=hh.ru</td>\n",
       "      <td>ЛМ Групп</td>\n",
       "      <td>&lt;p&gt;В динамично развивающуюся компанию приглаша...</td>\n",
       "      <td>https://hh.ru/vacancy/37847393</td>\n",
       "      <td>1</td>\n",
       "      <td>Москва</td>\n",
       "    </tr>\n",
       "  </tbody>\n",
       "</table>\n",
       "<p>96225 rows × 17 columns</p>\n",
       "</div>"
      ],
      "text/plain": [
       "             id                                               name  has_test  \\\n",
       "0      38228194                     Project R’n’D / Технолог R’n’D     False   \n",
       "1      36911636            Продавец-кассир (Москва, Богданова, 16)     False   \n",
       "2      36909000    Продавец-кассир (Москва, Новогиреевская, 11/36)     False   \n",
       "3      38985954  Product owner бизнес–стрима \"Аналитика и Отчет...     False   \n",
       "4      40108800                Business Development Director (CTO)     False   \n",
       "...         ...                                                ...       ...   \n",
       "96220  38834939                                        Оператор 1C     False   \n",
       "96221  37345373          Стажер Управления финансирования торговли     False   \n",
       "96222  38602820               Преподаватель математики/информатики     False   \n",
       "96223  35870421                            Программист С++ / Linux     False   \n",
       "96224  37847393                                          Бухгалтер     False   \n",
       "\n",
       "       response_letter_required  salary_from  salary_to salary_currency  \\\n",
       "0                          True          NaN        NaN             NaN   \n",
       "1                         False      33500.0    40000.0             RUR   \n",
       "2                         False      33500.0    38000.0             RUR   \n",
       "3                         False          NaN        NaN             NaN   \n",
       "4                         False          NaN        NaN             NaN   \n",
       "...                         ...          ...        ...             ...   \n",
       "96220                     False      48000.0        NaN             RUR   \n",
       "96221                     False      40000.0    40000.0             RUR   \n",
       "96222                     False          NaN        NaN             NaN   \n",
       "96223                     False          NaN        NaN             NaN   \n",
       "96224                     False      50000.0        NaN             RUR   \n",
       "\n",
       "      salary_gross            published_at              created_at  \\\n",
       "0              NaN  2020-07-26 23:40:42+00  2020-07-26 23:40:42+00   \n",
       "1             True  2020-07-27 00:28:12+00  2020-07-27 00:28:12+00   \n",
       "2             True  2020-08-24 00:16:48+00  2020-08-24 00:16:48+00   \n",
       "3              NaN  2020-09-08 18:29:25+00  2020-09-08 18:29:25+00   \n",
       "4              NaN  2020-11-25 08:56:45+00  2020-11-25 08:56:45+00   \n",
       "...            ...                     ...                     ...   \n",
       "96220         True  2020-08-26 06:52:49+00  2020-08-26 06:52:49+00   \n",
       "96221         True  2020-07-25 13:23:01+00  2020-07-25 13:23:01+00   \n",
       "96222          NaN  2020-08-13 16:30:47+00  2020-08-13 16:30:47+00   \n",
       "96223          NaN  2020-07-25 06:56:59+00  2020-07-25 06:56:59+00   \n",
       "96224         True  2020-08-09 06:29:01+00  2020-08-09 06:29:01+00   \n",
       "\n",
       "                           parsed_at  \\\n",
       "0      2020-07-27 03:03:03.154874+00   \n",
       "1      2020-07-27 03:03:04.258759+00   \n",
       "2      2020-08-24 02:59:43.766137+00   \n",
       "3      2020-09-08 19:02:47.261747+00   \n",
       "4      2020-11-28 06:59:37.872153+00   \n",
       "...                              ...   \n",
       "96220  2020-08-26 07:02:58.340756+00   \n",
       "96221  2020-07-28 11:01:18.939989+00   \n",
       "96222  2020-08-15 07:01:49.548725+00   \n",
       "96223  2020-07-27 07:01:31.732133+00   \n",
       "96224  2020-08-09 07:03:05.742439+00   \n",
       "\n",
       "                                                   url  \\\n",
       "0      https://api.hh.ru/vacancies/38228194?host=hh.ru   \n",
       "1      https://api.hh.ru/vacancies/36911636?host=hh.ru   \n",
       "2      https://api.hh.ru/vacancies/36909000?host=hh.ru   \n",
       "3      https://api.hh.ru/vacancies/38985954?host=hh.ru   \n",
       "4      https://api.hh.ru/vacancies/40108800?host=hh.ru   \n",
       "...                                                ...   \n",
       "96220  https://api.hh.ru/vacancies/38834939?host=hh.ru   \n",
       "96221  https://api.hh.ru/vacancies/37345373?host=hh.ru   \n",
       "96222  https://api.hh.ru/vacancies/38602820?host=hh.ru   \n",
       "96223  https://api.hh.ru/vacancies/35870421?host=hh.ru   \n",
       "96224  https://api.hh.ru/vacancies/37847393?host=hh.ru   \n",
       "\n",
       "                                           employer_name  \\\n",
       "0                                           Масл фектори   \n",
       "1                                              Пятёрочка   \n",
       "2                                              Пятёрочка   \n",
       "3                                         Банк ВТБ (ПАО)   \n",
       "4                                  Студия Олега Чулакова   \n",
       "...                                                  ...   \n",
       "96220                                             ТД ЛФБ   \n",
       "96221                                     UniCredit Bank   \n",
       "96222     Центр дополнительного образования Новый Взгляд   \n",
       "96223  Военно-космическая академия имени А.Ф. Можайского   \n",
       "96224                                           ЛМ Групп   \n",
       "\n",
       "                                             description  \\\n",
       "0      <p><strong>MF Kitchen</strong> — группа компан...   \n",
       "1      <p><strong>Обязанности:</strong></p><ul><li>Об...   \n",
       "2      <p><strong>Обязанности:</strong></p><ul><li>Об...   \n",
       "3      <p>Наша позиция предполагает участие в програм...   \n",
       "4      <p>Студия Олега Чулакова — это дизайн-студия №...   \n",
       "...                                                  ...   \n",
       "96220  <p> </p> <p>ТД «ЛФБ» - семейная компания, веде...   \n",
       "96221  <p>КРАТКАЯ ИНФОРМАЦИЯ:</p> <p>Отдел финансиров...   \n",
       "96222  <p><strong>Обязанности:</strong></p> <p> </p> ...   \n",
       "96223  <p><strong>Требования:</strong></p> <ul> <li>З...   \n",
       "96224  <p>В динамично развивающуюся компанию приглаша...   \n",
       "\n",
       "                        alternate_url  area_id        area_name  \n",
       "0      https://hh.ru/vacancy/38228194        1           Москва  \n",
       "1      https://hh.ru/vacancy/36911636        1           Москва  \n",
       "2      https://hh.ru/vacancy/36909000        1           Москва  \n",
       "3      https://hh.ru/vacancy/38985954        1           Москва  \n",
       "4      https://hh.ru/vacancy/40108800        1           Москва  \n",
       "...                               ...      ...              ...  \n",
       "96220  https://hh.ru/vacancy/38834939        1           Москва  \n",
       "96221  https://hh.ru/vacancy/37345373        1           Москва  \n",
       "96222  https://hh.ru/vacancy/38602820        1           Москва  \n",
       "96223  https://hh.ru/vacancy/35870421        2  Санкт-Петербург  \n",
       "96224  https://hh.ru/vacancy/37847393        1           Москва  \n",
       "\n",
       "[96225 rows x 17 columns]"
      ]
     },
     "execution_count": 3,
     "metadata": {},
     "output_type": "execute_result"
    }
   ],
   "source": [
    "data_vacancy_hh"
   ]
  },
  {
   "cell_type": "code",
   "execution_count": 4,
   "id": "9f7bfbc4",
   "metadata": {},
   "outputs": [
    {
     "name": "stdout",
     "output_type": "stream",
     "text": [
      "<class 'pandas.core.frame.DataFrame'>\n",
      "RangeIndex: 96225 entries, 0 to 96224\n",
      "Data columns (total 17 columns):\n",
      " #   Column                    Non-Null Count  Dtype  \n",
      "---  ------                    --------------  -----  \n",
      " 0   id                        96225 non-null  int64  \n",
      " 1   name                      96225 non-null  object \n",
      " 2   has_test                  96225 non-null  bool   \n",
      " 3   response_letter_required  96225 non-null  bool   \n",
      " 4   salary_from               56084 non-null  float64\n",
      " 5   salary_to                 39687 non-null  float64\n",
      " 6   salary_currency           61763 non-null  object \n",
      " 7   salary_gross              61493 non-null  object \n",
      " 8   published_at              96225 non-null  object \n",
      " 9   created_at                96225 non-null  object \n",
      " 10  parsed_at                 96225 non-null  object \n",
      " 11  url                       96225 non-null  object \n",
      " 12  employer_name             96225 non-null  object \n",
      " 13  description               96223 non-null  object \n",
      " 14  alternate_url             96225 non-null  object \n",
      " 15  area_id                   96225 non-null  int64  \n",
      " 16  area_name                 96225 non-null  object \n",
      "dtypes: bool(2), float64(2), int64(2), object(11)\n",
      "memory usage: 11.2+ MB\n"
     ]
    }
   ],
   "source": [
    "data_vacancy_hh.info()"
   ]
  },
  {
   "cell_type": "code",
   "execution_count": 5,
   "id": "48007196",
   "metadata": {},
   "outputs": [
    {
     "data": {
      "text/plain": [
       "Index(['id', 'name', 'has_test', 'response_letter_required', 'salary_from',\n",
       "       'salary_to', 'salary_currency', 'salary_gross', 'published_at',\n",
       "       'created_at', 'parsed_at', 'url', 'employer_name', 'description',\n",
       "       'alternate_url', 'area_id', 'area_name'],\n",
       "      dtype='object')"
      ]
     },
     "execution_count": 5,
     "metadata": {},
     "output_type": "execute_result"
    }
   ],
   "source": [
    "columns = data_vacancy_hh.columns\n",
    "columns"
   ]
  },
  {
   "cell_type": "code",
   "execution_count": 6,
   "id": "b641f0de",
   "metadata": {},
   "outputs": [],
   "source": [
    "columns_hold = ['name', 'description']"
   ]
  },
  {
   "cell_type": "code",
   "execution_count": 27,
   "id": "7131c65d",
   "metadata": {},
   "outputs": [],
   "source": [
    "data_vacancy = data_vacancy_hh[columns_hold]"
   ]
  },
  {
   "cell_type": "code",
   "execution_count": 28,
   "id": "c27983ed",
   "metadata": {},
   "outputs": [
    {
     "data": {
      "text/html": [
       "<div>\n",
       "<style scoped>\n",
       "    .dataframe tbody tr th:only-of-type {\n",
       "        vertical-align: middle;\n",
       "    }\n",
       "\n",
       "    .dataframe tbody tr th {\n",
       "        vertical-align: top;\n",
       "    }\n",
       "\n",
       "    .dataframe thead th {\n",
       "        text-align: right;\n",
       "    }\n",
       "</style>\n",
       "<table border=\"1\" class=\"dataframe\">\n",
       "  <thead>\n",
       "    <tr style=\"text-align: right;\">\n",
       "      <th></th>\n",
       "      <th>name</th>\n",
       "      <th>description</th>\n",
       "    </tr>\n",
       "  </thead>\n",
       "  <tbody>\n",
       "    <tr>\n",
       "      <th>0</th>\n",
       "      <td>Project R’n’D / Технолог R’n’D</td>\n",
       "      <td>&lt;p&gt;&lt;strong&gt;MF Kitchen&lt;/strong&gt; — группа компан...</td>\n",
       "    </tr>\n",
       "    <tr>\n",
       "      <th>1</th>\n",
       "      <td>Продавец-кассир (Москва, Богданова, 16)</td>\n",
       "      <td>&lt;p&gt;&lt;strong&gt;Обязанности:&lt;/strong&gt;&lt;/p&gt;&lt;ul&gt;&lt;li&gt;Об...</td>\n",
       "    </tr>\n",
       "    <tr>\n",
       "      <th>2</th>\n",
       "      <td>Продавец-кассир (Москва, Новогиреевская, 11/36)</td>\n",
       "      <td>&lt;p&gt;&lt;strong&gt;Обязанности:&lt;/strong&gt;&lt;/p&gt;&lt;ul&gt;&lt;li&gt;Об...</td>\n",
       "    </tr>\n",
       "    <tr>\n",
       "      <th>3</th>\n",
       "      <td>Product owner бизнес–стрима \"Аналитика и Отчет...</td>\n",
       "      <td>&lt;p&gt;Наша позиция предполагает участие в програм...</td>\n",
       "    </tr>\n",
       "    <tr>\n",
       "      <th>4</th>\n",
       "      <td>Business Development Director (CTO)</td>\n",
       "      <td>&lt;p&gt;Студия Олега Чулакова — это дизайн-студия №...</td>\n",
       "    </tr>\n",
       "    <tr>\n",
       "      <th>...</th>\n",
       "      <td>...</td>\n",
       "      <td>...</td>\n",
       "    </tr>\n",
       "    <tr>\n",
       "      <th>96220</th>\n",
       "      <td>Оператор 1C</td>\n",
       "      <td>&lt;p&gt; &lt;/p&gt; &lt;p&gt;ТД «ЛФБ» - семейная компания, веде...</td>\n",
       "    </tr>\n",
       "    <tr>\n",
       "      <th>96221</th>\n",
       "      <td>Стажер Управления финансирования торговли</td>\n",
       "      <td>&lt;p&gt;КРАТКАЯ ИНФОРМАЦИЯ:&lt;/p&gt; &lt;p&gt;Отдел финансиров...</td>\n",
       "    </tr>\n",
       "    <tr>\n",
       "      <th>96222</th>\n",
       "      <td>Преподаватель математики/информатики</td>\n",
       "      <td>&lt;p&gt;&lt;strong&gt;Обязанности:&lt;/strong&gt;&lt;/p&gt; &lt;p&gt; &lt;/p&gt; ...</td>\n",
       "    </tr>\n",
       "    <tr>\n",
       "      <th>96223</th>\n",
       "      <td>Программист С++ / Linux</td>\n",
       "      <td>&lt;p&gt;&lt;strong&gt;Требования:&lt;/strong&gt;&lt;/p&gt; &lt;ul&gt; &lt;li&gt;З...</td>\n",
       "    </tr>\n",
       "    <tr>\n",
       "      <th>96224</th>\n",
       "      <td>Бухгалтер</td>\n",
       "      <td>&lt;p&gt;В динамично развивающуюся компанию приглаша...</td>\n",
       "    </tr>\n",
       "  </tbody>\n",
       "</table>\n",
       "<p>96225 rows × 2 columns</p>\n",
       "</div>"
      ],
      "text/plain": [
       "                                                    name  \\\n",
       "0                         Project R’n’D / Технолог R’n’D   \n",
       "1                Продавец-кассир (Москва, Богданова, 16)   \n",
       "2        Продавец-кассир (Москва, Новогиреевская, 11/36)   \n",
       "3      Product owner бизнес–стрима \"Аналитика и Отчет...   \n",
       "4                    Business Development Director (CTO)   \n",
       "...                                                  ...   \n",
       "96220                                        Оператор 1C   \n",
       "96221          Стажер Управления финансирования торговли   \n",
       "96222               Преподаватель математики/информатики   \n",
       "96223                            Программист С++ / Linux   \n",
       "96224                                          Бухгалтер   \n",
       "\n",
       "                                             description  \n",
       "0      <p><strong>MF Kitchen</strong> — группа компан...  \n",
       "1      <p><strong>Обязанности:</strong></p><ul><li>Об...  \n",
       "2      <p><strong>Обязанности:</strong></p><ul><li>Об...  \n",
       "3      <p>Наша позиция предполагает участие в програм...  \n",
       "4      <p>Студия Олега Чулакова — это дизайн-студия №...  \n",
       "...                                                  ...  \n",
       "96220  <p> </p> <p>ТД «ЛФБ» - семейная компания, веде...  \n",
       "96221  <p>КРАТКАЯ ИНФОРМАЦИЯ:</p> <p>Отдел финансиров...  \n",
       "96222  <p><strong>Обязанности:</strong></p> <p> </p> ...  \n",
       "96223  <p><strong>Требования:</strong></p> <ul> <li>З...  \n",
       "96224  <p>В динамично развивающуюся компанию приглаша...  \n",
       "\n",
       "[96225 rows x 2 columns]"
      ]
     },
     "execution_count": 28,
     "metadata": {},
     "output_type": "execute_result"
    }
   ],
   "source": [
    "data_vacancy"
   ]
  },
  {
   "cell_type": "code",
   "execution_count": 31,
   "id": "82ad3018",
   "metadata": {},
   "outputs": [],
   "source": [
    "def replace_symb(str_):\\\n",
    "    return str(str_).replace('<p>', ' '). \\\n",
    "                replace('<strong>', ' '). \\\n",
    "                replace('</p>', ''). \\\n",
    "                replace('</strong>', ' '). \\\n",
    "                replace('<ul>', ''). \\\n",
    "                replace('</ul>', ''). \\\n",
    "                replace('</li>', ''). \\\n",
    "                replace('<li>', '')"
   ]
  },
  {
   "cell_type": "code",
   "execution_count": 32,
   "id": "907d3ac6",
   "metadata": {},
   "outputs": [
    {
     "name": "stderr",
     "output_type": "stream",
     "text": [
      "C:\\Users\\basil\\AppData\\Local\\Temp\\ipykernel_10112\\3785133548.py:1: SettingWithCopyWarning: \n",
      "A value is trying to be set on a copy of a slice from a DataFrame.\n",
      "Try using .loc[row_indexer,col_indexer] = value instead\n",
      "\n",
      "See the caveats in the documentation: https://pandas.pydata.org/pandas-docs/stable/user_guide/indexing.html#returning-a-view-versus-a-copy\n",
      "  data_vacancy.description = data_vacancy.description.apply(replace_symb)\n"
     ]
    }
   ],
   "source": [
    "data_vacancy.description = data_vacancy.description.apply(replace_symb)"
   ]
  },
  {
   "cell_type": "code",
   "execution_count": 33,
   "id": "de21395f",
   "metadata": {},
   "outputs": [
    {
     "data": {
      "text/html": [
       "<div>\n",
       "<style scoped>\n",
       "    .dataframe tbody tr th:only-of-type {\n",
       "        vertical-align: middle;\n",
       "    }\n",
       "\n",
       "    .dataframe tbody tr th {\n",
       "        vertical-align: top;\n",
       "    }\n",
       "\n",
       "    .dataframe thead th {\n",
       "        text-align: right;\n",
       "    }\n",
       "</style>\n",
       "<table border=\"1\" class=\"dataframe\">\n",
       "  <thead>\n",
       "    <tr style=\"text-align: right;\">\n",
       "      <th></th>\n",
       "      <th>name</th>\n",
       "      <th>description</th>\n",
       "    </tr>\n",
       "  </thead>\n",
       "  <tbody>\n",
       "    <tr>\n",
       "      <th>0</th>\n",
       "      <td>Project R’n’D / Технолог R’n’D</td>\n",
       "      <td>MF Kitchen  — группа компаний, занимающаяся ...</td>\n",
       "    </tr>\n",
       "    <tr>\n",
       "      <th>1</th>\n",
       "      <td>Продавец-кассир (Москва, Богданова, 16)</td>\n",
       "      <td>Обязанности: Обслуживание покупателей на кас...</td>\n",
       "    </tr>\n",
       "    <tr>\n",
       "      <th>2</th>\n",
       "      <td>Продавец-кассир (Москва, Новогиреевская, 11/36)</td>\n",
       "      <td>Обязанности: Обслуживание покупателей на кас...</td>\n",
       "    </tr>\n",
       "    <tr>\n",
       "      <th>3</th>\n",
       "      <td>Product owner бизнес–стрима \"Аналитика и Отчет...</td>\n",
       "      <td>Наша позиция предполагает участие в программе...</td>\n",
       "    </tr>\n",
       "    <tr>\n",
       "      <th>4</th>\n",
       "      <td>Business Development Director (CTO)</td>\n",
       "      <td>Студия Олега Чулакова — это дизайн-студия №1 ...</td>\n",
       "    </tr>\n",
       "    <tr>\n",
       "      <th>...</th>\n",
       "      <td>...</td>\n",
       "      <td>...</td>\n",
       "    </tr>\n",
       "    <tr>\n",
       "      <th>96220</th>\n",
       "      <td>Оператор 1C</td>\n",
       "      <td>ТД «ЛФБ» - семейная компания, ведет свою и...</td>\n",
       "    </tr>\n",
       "    <tr>\n",
       "      <th>96221</th>\n",
       "      <td>Стажер Управления финансирования торговли</td>\n",
       "      <td>КРАТКАЯ ИНФОРМАЦИЯ:  Отдел финансирования тор...</td>\n",
       "    </tr>\n",
       "    <tr>\n",
       "      <th>96222</th>\n",
       "      <td>Преподаватель математики/информатики</td>\n",
       "      <td>Обязанности:      подготовка и проведение гр...</td>\n",
       "    </tr>\n",
       "    <tr>\n",
       "      <th>96223</th>\n",
       "      <td>Программист С++ / Linux</td>\n",
       "      <td>Требования:   Знание С/С++/C++11 Опыт работы...</td>\n",
       "    </tr>\n",
       "    <tr>\n",
       "      <th>96224</th>\n",
       "      <td>Бухгалтер</td>\n",
       "      <td>В динамично развивающуюся компанию приглашает...</td>\n",
       "    </tr>\n",
       "  </tbody>\n",
       "</table>\n",
       "<p>96225 rows × 2 columns</p>\n",
       "</div>"
      ],
      "text/plain": [
       "                                                    name  \\\n",
       "0                         Project R’n’D / Технолог R’n’D   \n",
       "1                Продавец-кассир (Москва, Богданова, 16)   \n",
       "2        Продавец-кассир (Москва, Новогиреевская, 11/36)   \n",
       "3      Product owner бизнес–стрима \"Аналитика и Отчет...   \n",
       "4                    Business Development Director (CTO)   \n",
       "...                                                  ...   \n",
       "96220                                        Оператор 1C   \n",
       "96221          Стажер Управления финансирования торговли   \n",
       "96222               Преподаватель математики/информатики   \n",
       "96223                            Программист С++ / Linux   \n",
       "96224                                          Бухгалтер   \n",
       "\n",
       "                                             description  \n",
       "0        MF Kitchen  — группа компаний, занимающаяся ...  \n",
       "1        Обязанности: Обслуживание покупателей на кас...  \n",
       "2        Обязанности: Обслуживание покупателей на кас...  \n",
       "3       Наша позиция предполагает участие в программе...  \n",
       "4       Студия Олега Чулакова — это дизайн-студия №1 ...  \n",
       "...                                                  ...  \n",
       "96220      ТД «ЛФБ» - семейная компания, ведет свою и...  \n",
       "96221   КРАТКАЯ ИНФОРМАЦИЯ:  Отдел финансирования тор...  \n",
       "96222    Обязанности:      подготовка и проведение гр...  \n",
       "96223    Требования:   Знание С/С++/C++11 Опыт работы...  \n",
       "96224   В динамично развивающуюся компанию приглашает...  \n",
       "\n",
       "[96225 rows x 2 columns]"
      ]
     },
     "execution_count": 33,
     "metadata": {},
     "output_type": "execute_result"
    }
   ],
   "source": [
    "data_vacancy"
   ]
  },
  {
   "cell_type": "code",
   "execution_count": 34,
   "id": "24e8288a",
   "metadata": {},
   "outputs": [
    {
     "name": "stdout",
     "output_type": "stream",
     "text": [
      "<class 'pandas.core.frame.DataFrame'>\n",
      "RangeIndex: 96225 entries, 0 to 96224\n",
      "Data columns (total 2 columns):\n",
      " #   Column       Non-Null Count  Dtype \n",
      "---  ------       --------------  ----- \n",
      " 0   name         96225 non-null  object\n",
      " 1   description  96225 non-null  object\n",
      "dtypes: object(2)\n",
      "memory usage: 1.5+ MB\n"
     ]
    }
   ],
   "source": [
    "data_vacancy = data_vacancy.dropna(how='any')\n",
    "data_vacancy.info()"
   ]
  },
  {
   "cell_type": "code",
   "execution_count": 43,
   "id": "f628d813",
   "metadata": {},
   "outputs": [],
   "source": [
    "data_vacancy = data_vacancy.rename(columns={\"name\": \"Summaries\", \"description\": \"Articles\"})"
   ]
  },
  {
   "cell_type": "markdown",
   "id": "36e9c5ef",
   "metadata": {},
   "source": [
    "# модель"
   ]
  },
  {
   "cell_type": "code",
   "execution_count": 36,
   "id": "77db7e8b",
   "metadata": {},
   "outputs": [
    {
     "name": "stderr",
     "output_type": "stream",
     "text": [
      "You are using the default legacy behaviour of the <class 'transformers.models.t5.tokenization_t5.T5Tokenizer'>. If you see this, DO NOT PANIC! This is expected, and simply means that the `legacy` (previous) behavior will be used so nothing changes for you. If you want to use the new behaviour, set `legacy=False`. This should only be set if you understand what it means, and thouroughly read the reason why this was added as explained in https://github.com/huggingface/transformers/pull/24565\n"
     ]
    }
   ],
   "source": [
    "from transformers import T5ForConditionalGeneration, T5Tokenizer\n",
    "MODEL_NAME = 'cointegrated/rut5-base-absum'\n",
    "model = T5ForConditionalGeneration.from_pretrained(MODEL_NAME)\n",
    "tokenizer = T5Tokenizer.from_pretrained(MODEL_NAME)"
   ]
  },
  {
   "cell_type": "code",
   "execution_count": 79,
   "id": "aac3e0b0",
   "metadata": {},
   "outputs": [
    {
     "name": "stderr",
     "output_type": "stream",
     "text": [
      "C:\\anaconda3\\lib\\site-packages\\pyarrow\\pandas_compat.py:373: FutureWarning: is_sparse is deprecated and will be removed in a future version. Check `isinstance(dtype, pd.SparseDtype)` instead.\n",
      "  if _pandas_api.is_sparse(col):\n"
     ]
    }
   ],
   "source": [
    "ds_summarize = Dataset.from_pandas(data_vacancy)"
   ]
  },
  {
   "cell_type": "code",
   "execution_count": 80,
   "id": "7f5d740c",
   "metadata": {},
   "outputs": [
    {
     "data": {
      "text/plain": [
       "Dataset({\n",
       "    features: ['Summaries', 'Articles'],\n",
       "    num_rows: 96225\n",
       "})"
      ]
     },
     "execution_count": 80,
     "metadata": {},
     "output_type": "execute_result"
    }
   ],
   "source": [
    "ds_summarize"
   ]
  },
  {
   "cell_type": "code",
   "execution_count": 81,
   "id": "8c251e4f",
   "metadata": {},
   "outputs": [],
   "source": [
    "ds_summarize = ds_summarize.train_test_split(train_size=0.8)"
   ]
  },
  {
   "cell_type": "code",
   "execution_count": 82,
   "id": "85ecdcf0",
   "metadata": {},
   "outputs": [
    {
     "data": {
      "text/plain": [
       "DatasetDict({\n",
       "    train: Dataset({\n",
       "        features: ['Summaries', 'Articles'],\n",
       "        num_rows: 76980\n",
       "    })\n",
       "    test: Dataset({\n",
       "        features: ['Summaries', 'Articles'],\n",
       "        num_rows: 19245\n",
       "    })\n",
       "})"
      ]
     },
     "execution_count": 82,
     "metadata": {},
     "output_type": "execute_result"
    }
   ],
   "source": [
    "ds_summarize"
   ]
  },
  {
   "cell_type": "code",
   "execution_count": 89,
   "id": "ac1976aa",
   "metadata": {},
   "outputs": [],
   "source": [
    "MODEL = 't5-base'\n",
    "BATCH_SIZE = 2\n",
    "EPOCHS = 3\n",
    "OUT_DIR = 'results_t5base'\n",
    "MAX_INPUT_LENGTH = 512\n",
    "MAX_LENGTH = 64 "
   ]
  },
  {
   "cell_type": "code",
   "execution_count": 84,
   "id": "4c52601c",
   "metadata": {},
   "outputs": [
    {
     "data": {
      "application/vnd.jupyter.widget-view+json": {
       "model_id": "cca7840dab344b938eff2e6263b8ac69",
       "version_major": 2,
       "version_minor": 0
      },
      "text/plain": [
       "Map:   0%|          | 0/76980 [00:00<?, ? examples/s]"
      ]
     },
     "metadata": {},
     "output_type": "display_data"
    },
    {
     "name": "stderr",
     "output_type": "stream",
     "text": [
      "C:\\anaconda3\\lib\\site-packages\\transformers\\tokenization_utils_base.py:3660: UserWarning: `as_target_tokenizer` is deprecated and will be removed in v5 of Transformers. You can tokenize your labels by using the argument `text_target` of the regular `__call__` method (either in the same call as your input texts if you use the same keyword arguments, or in a separate call.\n",
      "  warnings.warn(\n"
     ]
    },
    {
     "data": {
      "application/vnd.jupyter.widget-view+json": {
       "model_id": "a2314d4cde5649849f3ff9311f68d710",
       "version_major": 2,
       "version_minor": 0
      },
      "text/plain": [
       "Map:   0%|          | 0/19245 [00:00<?, ? examples/s]"
      ]
     },
     "metadata": {},
     "output_type": "display_data"
    }
   ],
   "source": [
    "# Function to convert text data into model inputs and targets\n",
    "def preprocess_function(examples):\n",
    "    inputs = [f\"summarize: {article}\" for article in examples['Articles']]\n",
    "    model_inputs = tokenizer(\n",
    "        inputs,\n",
    "        max_length=MAX_INPUT_LENGTH,\n",
    "        truncation=True,\n",
    "        padding='max_length'\n",
    "    )\n",
    " \n",
    "    # Set up the tokenizer for targets\n",
    "    targets = [summary for summary in examples['Summaries']]\n",
    "    with tokenizer.as_target_tokenizer():\n",
    "        labels = tokenizer(\n",
    "            targets,\n",
    "            max_length=MAX_LENGTH,\n",
    "            truncation=True,\n",
    "            padding='max_length'\n",
    "        )\n",
    " \n",
    "    model_inputs[\"labels\"] = labels[\"input_ids\"]\n",
    "    return model_inputs\n",
    " \n",
    "# Apply the function to the whole dataset\n",
    "ds_tokenized = ds_summarize.map(preprocess_function, batched=True)"
   ]
  },
  {
   "cell_type": "code",
   "execution_count": 85,
   "id": "a1f66890",
   "metadata": {},
   "outputs": [
    {
     "name": "stdout",
     "output_type": "stream",
     "text": [
      "244,309,248 total parameters.\n",
      "244,309,248 training parameters.\n"
     ]
    }
   ],
   "source": [
    "device = torch.device(\"cuda\" if torch.cuda.is_available() else \"cpu\")\n",
    "model.to(device)\n",
    "\n",
    "# Total parameters and trainable parameters.\n",
    "total_params = sum(p.numel() for p in model.parameters())\n",
    "print(f\"{total_params:,} total parameters.\")\n",
    "total_trainable_params = sum(\n",
    "    p.numel() for p in model.parameters() if p.requires_grad)\n",
    "print(f\"{total_trainable_params:,} training parameters.\")"
   ]
  },
  {
   "cell_type": "code",
   "execution_count": 86,
   "id": "a00ddb34",
   "metadata": {},
   "outputs": [],
   "source": [
    "rouge = evaluate.load(\"rouge\")\n",
    " \n",
    "def compute_metrics(eval_pred):\n",
    "    predictions, labels = eval_pred.predictions[0], eval_pred.label_ids\n",
    " \n",
    "    decoded_preds = tokenizer.batch_decode(predictions, skip_special_tokens=True)\n",
    "    labels = np.where(labels != -100, labels, tokenizer.pad_token_id)\n",
    "    decoded_labels = tokenizer.batch_decode(labels, skip_special_tokens=True)\n",
    " \n",
    "    result = rouge.compute(\n",
    "        predictions=decoded_preds,\n",
    "        references=decoded_labels,\n",
    "        use_stemmer=True,\n",
    "        rouge_types=[\n",
    "            'rouge1',\n",
    "            'rouge2',\n",
    "            'rougeL'\n",
    "        ]\n",
    "    )\n",
    " \n",
    "    prediction_lens = [np.count_nonzero(pred != tokenizer.pad_token_id) for pred in predictions]\n",
    "    result[\"gen_len\"] = np.mean(prediction_lens)\n",
    " \n",
    "    return {k: round(v, 4) for k, v in result.items()}"
   ]
  },
  {
   "cell_type": "code",
   "execution_count": 87,
   "id": "cf253a87",
   "metadata": {},
   "outputs": [],
   "source": [
    "def preprocess_logits_for_metrics(logits, labels):\n",
    "    \"\"\"\n",
    "    Original Trainer may have a memory leak.\n",
    "    This is a workaround to avoid storing too many tensors that are not needed.\n",
    "    \"\"\"\n",
    "    pred_ids = torch.argmax(logits[0], dim=-1)\n",
    "    return pred_ids, labels"
   ]
  },
  {
   "cell_type": "code",
   "execution_count": 91,
   "id": "5c7672cf",
   "metadata": {},
   "outputs": [
    {
     "data": {
      "text/html": [
       "\n",
       "    <div>\n",
       "      \n",
       "      <progress value='115470' max='115470' style='width:300px; height:20px; vertical-align: middle;'></progress>\n",
       "      [115470/115470 23:21:50, Epoch 3/3]\n",
       "    </div>\n",
       "    <table border=\"1\" class=\"dataframe\">\n",
       "  <thead>\n",
       " <tr style=\"text-align: left;\">\n",
       "      <th>Step</th>\n",
       "      <th>Training Loss</th>\n",
       "      <th>Validation Loss</th>\n",
       "      <th>Rouge1</th>\n",
       "      <th>Rouge2</th>\n",
       "      <th>Rougel</th>\n",
       "      <th>Gen Len</th>\n",
       "    </tr>\n",
       "  </thead>\n",
       "  <tbody>\n",
       "    <tr>\n",
       "      <td>10000</td>\n",
       "      <td>0.238500</td>\n",
       "      <td>0.224043</td>\n",
       "      <td>0.186000</td>\n",
       "      <td>0.070000</td>\n",
       "      <td>0.185200</td>\n",
       "      <td>9.715600</td>\n",
       "    </tr>\n",
       "    <tr>\n",
       "      <td>20000</td>\n",
       "      <td>0.232700</td>\n",
       "      <td>0.207933</td>\n",
       "      <td>0.199600</td>\n",
       "      <td>0.074600</td>\n",
       "      <td>0.198700</td>\n",
       "      <td>9.715700</td>\n",
       "    </tr>\n",
       "    <tr>\n",
       "      <td>30000</td>\n",
       "      <td>0.225200</td>\n",
       "      <td>0.197720</td>\n",
       "      <td>0.196400</td>\n",
       "      <td>0.072200</td>\n",
       "      <td>0.195800</td>\n",
       "      <td>9.715700</td>\n",
       "    </tr>\n",
       "    <tr>\n",
       "      <td>40000</td>\n",
       "      <td>0.183900</td>\n",
       "      <td>0.191968</td>\n",
       "      <td>0.212300</td>\n",
       "      <td>0.083300</td>\n",
       "      <td>0.211600</td>\n",
       "      <td>9.715700</td>\n",
       "    </tr>\n",
       "    <tr>\n",
       "      <td>50000</td>\n",
       "      <td>0.189300</td>\n",
       "      <td>0.186672</td>\n",
       "      <td>0.210800</td>\n",
       "      <td>0.082900</td>\n",
       "      <td>0.210100</td>\n",
       "      <td>9.715600</td>\n",
       "    </tr>\n",
       "    <tr>\n",
       "      <td>60000</td>\n",
       "      <td>0.175500</td>\n",
       "      <td>0.182822</td>\n",
       "      <td>0.212400</td>\n",
       "      <td>0.088800</td>\n",
       "      <td>0.211700</td>\n",
       "      <td>9.715700</td>\n",
       "    </tr>\n",
       "    <tr>\n",
       "      <td>70000</td>\n",
       "      <td>0.174600</td>\n",
       "      <td>0.179088</td>\n",
       "      <td>0.216500</td>\n",
       "      <td>0.089300</td>\n",
       "      <td>0.216000</td>\n",
       "      <td>9.715700</td>\n",
       "    </tr>\n",
       "    <tr>\n",
       "      <td>80000</td>\n",
       "      <td>0.162200</td>\n",
       "      <td>0.178113</td>\n",
       "      <td>0.221000</td>\n",
       "      <td>0.092400</td>\n",
       "      <td>0.220200</td>\n",
       "      <td>9.715700</td>\n",
       "    </tr>\n",
       "    <tr>\n",
       "      <td>90000</td>\n",
       "      <td>0.151000</td>\n",
       "      <td>0.176523</td>\n",
       "      <td>0.221100</td>\n",
       "      <td>0.094500</td>\n",
       "      <td>0.220300</td>\n",
       "      <td>9.715700</td>\n",
       "    </tr>\n",
       "    <tr>\n",
       "      <td>100000</td>\n",
       "      <td>0.153600</td>\n",
       "      <td>0.173735</td>\n",
       "      <td>0.227900</td>\n",
       "      <td>0.100300</td>\n",
       "      <td>0.227100</td>\n",
       "      <td>9.715700</td>\n",
       "    </tr>\n",
       "    <tr>\n",
       "      <td>110000</td>\n",
       "      <td>0.162600</td>\n",
       "      <td>0.172456</td>\n",
       "      <td>0.226600</td>\n",
       "      <td>0.098700</td>\n",
       "      <td>0.225800</td>\n",
       "      <td>9.715700</td>\n",
       "    </tr>\n",
       "  </tbody>\n",
       "</table><p>"
      ],
      "text/plain": [
       "<IPython.core.display.HTML object>"
      ]
     },
     "metadata": {},
     "output_type": "display_data"
    }
   ],
   "source": [
    "training_args = TrainingArguments(\n",
    "    output_dir=OUT_DIR,\n",
    "    num_train_epochs=EPOCHS,\n",
    "    per_device_train_batch_size=BATCH_SIZE,\n",
    "    per_device_eval_batch_size=BATCH_SIZE,\n",
    "    warmup_steps=500,\n",
    "    weight_decay=0.01,\n",
    "    logging_dir=OUT_DIR,\n",
    "    #logging_steps=10,\n",
    "    evaluation_strategy=\"steps\",\n",
    "    eval_steps=10000,\n",
    "    save_strategy='epoch',\n",
    "    save_total_limit=2,\n",
    "    learning_rate=0.0001\n",
    ")\n",
    " \n",
    "trainer = Trainer(\n",
    "    model=model,\n",
    "    args=training_args,\n",
    "    train_dataset=ds_tokenized[\"train\"],\n",
    "    eval_dataset=ds_tokenized[\"test\"],\n",
    "    preprocess_logits_for_metrics=preprocess_logits_for_metrics,\n",
    "    compute_metrics=compute_metrics\n",
    ")\n",
    " \n",
    "history = trainer.train()"
   ]
  },
  {
   "cell_type": "code",
   "execution_count": 96,
   "id": "764392a5",
   "metadata": {},
   "outputs": [
    {
     "data": {
      "text/plain": [
       "('t5_vacancy_tokenizer\\\\tokenizer_config.json',\n",
       " 't5_vacancy_tokenizer\\\\special_tokens_map.json',\n",
       " 't5_vacancy_tokenizer\\\\spiece.model',\n",
       " 't5_vacancy_tokenizer\\\\added_tokens.json')"
      ]
     },
     "execution_count": 96,
     "metadata": {},
     "output_type": "execute_result"
    }
   ],
   "source": [
    "model.save_pretrained('t5_vacancy_3epochs')\n",
    "tokenizer.save_pretrained('t5_vacancy_tokenizer')"
   ]
  },
  {
   "cell_type": "code",
   "execution_count": null,
   "id": "2d33f83c",
   "metadata": {},
   "outputs": [],
   "source": [
    "#model = T5ForConditionalGeneration.from_pretrained(model_path)\n",
    "#tokenizer = T5Tokenizer.from_pretrained(tokenizer_path)"
   ]
  },
  {
   "cell_type": "markdown",
   "id": "1dee62dd",
   "metadata": {},
   "source": [
    "# Тест"
   ]
  },
  {
   "cell_type": "code",
   "execution_count": 92,
   "id": "1c0ef3e1",
   "metadata": {},
   "outputs": [],
   "source": [
    "def summarize_text(text, model, tokenizer, num_beams=5):\n",
    "    # Preprocess the text\n",
    "    inputs = tokenizer.encode(\n",
    "        \"summarize: \" + text,\n",
    "        return_tensors='pt',\n",
    "        max_length=1024,\n",
    "        truncation=True\n",
    "    )\n",
    " \n",
    "    # Generate the summary\n",
    "    summary_ids = model.generate(\n",
    "        inputs,\n",
    "        max_length=64,\n",
    "        num_beams=num_beams,\n",
    "        # early_stopping=True,\n",
    "    )\n",
    " \n",
    "    # Decode and return the summary\n",
    "    return tokenizer.decode(summary_ids[0], skip_special_tokens=True)"
   ]
  },
  {
   "cell_type": "code",
   "execution_count": 95,
   "id": "43ab2f1a",
   "metadata": {},
   "outputs": [
    {
     "name": "stdout",
     "output_type": "stream",
     "text": [
      "text:   Крупная компания ищет сотрудников на должности: Уборщица(к) м. Бабушкинская   Обязанности:     Влажная и сухая уборка помещений    Требования:     Трудолюбие и исполнительность    Работоспособность    Ответственность     Условия:   - Стабильная работа  - График работы: 5/2 с 8-00 до 12-00  - Заработная плата без задержек   \n",
      "summary:  Уборщица/уборщик\n"
     ]
    }
   ],
   "source": [
    "model_ = model.to('cpu')\n",
    "text = data_vacancy.iloc[30000].Articles #ds_summarize['test'][100]['Articles']\n",
    "summary = summarize_text(text=text,\n",
    "              model=model_,\n",
    "              tokenizer=tokenizer) \n",
    "print('text: ', text)\n",
    "print('summary: ', summary)"
   ]
  },
  {
   "cell_type": "code",
   "execution_count": 97,
   "id": "74f919f9",
   "metadata": {},
   "outputs": [
    {
     "data": {
      "text/plain": [
       "'Уборщица/уборщик'"
      ]
     },
     "execution_count": 97,
     "metadata": {},
     "output_type": "execute_result"
    }
   ],
   "source": [
    "data_vacancy.iloc[30000].Summaries"
   ]
  },
  {
   "cell_type": "code",
   "execution_count": 100,
   "id": "03da782a",
   "metadata": {},
   "outputs": [
    {
     "name": "stdout",
     "output_type": "stream",
     "text": [
      "text:  Работа на проектах внедрения ИС на платформе SAP BO FC/IC (бюджетирование, консолидация финансовой отчетности; интеграция Excel - SAP FC -SAP IC - SAP BPC - BW); - руководство группой тех.поддержки; - FIM/DS jobs - разработка//поддержка (ETL, модификация FIM jobs в DS Designer - scripts, custom functions, SQL queries/sp, интеграция между различными системами); - отчеты Crystal Reports; - MS SQL 2016(поддержка модифицированных FIM jobs, разработка запросов, хранимых процедур, udf, запросы к БД FIM/FC/IC/BOE audit); - модификация/поддержка макросов в Excel VBA / VBS (подготовка исходных файлов Excel для загрузки в SAP IC/FC); - внутренний проект - \"База данных пользователей КИС\" (MS SQL / C#, MS Visual Studio 2013, MS SQL Server 2008, интеграция с системами SAP - формирование файлов загрузки для SAP NW, BPC, IC).C/C++ MS SQL Server Transact-SQL VBA Python SQL Data Science Big Data Машинное обучение Глубокое обучение Numpy SciPy PyTorch Keras Scikit-learn Pandas SkLearn\n",
      "summary:  Ведущий консультант отдела внедрения ИС\n"
     ]
    }
   ],
   "source": [
    "text = 'Работа на проектах внедрения ИС на платформе SAP BO FC/IC (бюджетирование, консолидация финансовой отчетности; интеграция Excel - SAP FC -SAP IC - SAP BPC - BW); - руководство группой тех.поддержки; - FIM/DS jobs - разработка//поддержка (ETL, модификация FIM jobs в DS Designer - scripts, custom functions, SQL queries/sp, интеграция между различными системами); - отчеты Crystal Reports; - MS SQL 2016(поддержка модифицированных FIM jobs, разработка запросов, хранимых процедур, udf, запросы к БД FIM/FC/IC/BOE audit); - модификация/поддержка макросов в Excel VBA / VBS (подготовка исходных файлов Excel для загрузки в SAP IC/FC); - внутренний проект - \"База данных пользователей КИС\" (MS SQL / C#, MS Visual Studio 2013, MS SQL Server 2008, интеграция с системами SAP - формирование файлов загрузки для SAP NW, BPC, IC).'\n",
    "text += 'C/C++ MS SQL Server Transact-SQL VBA Python SQL Data Science Big Data Машинное обучение Глубокое обучение Numpy SciPy PyTorch Keras Scikit-learn Pandas SkLearn'\n",
    "summary = summarize_text(text=text,\n",
    "              model=model_,\n",
    "              tokenizer=tokenizer) \n",
    "print('text: ', text)\n",
    "print('summary: ', summary)"
   ]
  },
  {
   "cell_type": "code",
   "execution_count": 101,
   "id": "a5a74052",
   "metadata": {},
   "outputs": [
    {
     "name": "stdout",
     "output_type": "stream",
     "text": [
      "text:  Входной контроль сырья и комплектующих, контроль тех.процесса изготовления продукции, концевые операции.Приемка, продажа товара. Работа на контрольно-кассовой технике. Соблюдение требований стандартов предприятияПользователь ПК Водительское удостоверение категории B Организаторские навыки Организация мероприятий Холодные продажи Делопроизводство Поиск и привлечение клиентов Заключение договоров Телефонные переговоры Прямые продажи Windows 7\n",
      "summary:  Менеджер по продажам и работе с клиентами\n"
     ]
    }
   ],
   "source": [
    "text = 'Входной контроль сырья и комплектующих, контроль тех.процесса изготовления продукции, концевые операции.'\n",
    "text += 'Приемка, продажа товара. Работа на контрольно-кассовой технике. Соблюдение требований стандартов предприятия'\n",
    "text += 'Пользователь ПК Водительское удостоверение категории B Организаторские навыки Организация мероприятий Холодные продажи Делопроизводство Поиск и привлечение клиентов Заключение договоров Телефонные переговоры Прямые продажи Windows 7'\n",
    "summary = summarize_text(text=text,\n",
    "              model=model_,\n",
    "              tokenizer=tokenizer) \n",
    "print('text: ', text)\n",
    "print('summary: ', summary)"
   ]
  },
  {
   "cell_type": "code",
   "execution_count": 102,
   "id": "6b9e3f05",
   "metadata": {},
   "outputs": [
    {
     "name": "stdout",
     "output_type": "stream",
     "text": [
      "text:  Организация и контроль рабочего процесса Эксплуатация зданий и сооружений Ремонтные работы Техническое обслуживание Энергетика Первичная бухгалтерская документация Работа с электронным документооборотом Договорная работа Оформление ведомости объёмов строительных, электромонтажных работ Работа с технической документацией Техническая эксплуатация Ведение переговоров Противопожарная безопасность Монтаж оборудования Административно-хозяйственная деятельность\n",
      "summary:  Руководитель отдела эксплуатации зданий и сооружений\n"
     ]
    }
   ],
   "source": [
    "text = 'Организация и контроль рабочего процесса Эксплуатация зданий и сооружений Ремонтные работы Техническое обслуживание Энергетика Первичная бухгалтерская документация Работа с электронным документооборотом Договорная работа Оформление ведомости объёмов строительных, электромонтажных работ Работа с технической документацией Техническая эксплуатация Ведение переговоров Противопожарная безопасность Монтаж оборудования Административно-хозяйственная деятельность'\n",
    "\n",
    "summary = summarize_text(text=text,\n",
    "              model=model_,\n",
    "              tokenizer=tokenizer) \n",
    "print('text: ', text)\n",
    "print('summary: ', summary)\n"
   ]
  },
  {
   "cell_type": "code",
   "execution_count": null,
   "id": "45524f19",
   "metadata": {},
   "outputs": [],
   "source": []
  }
 ],
 "metadata": {
  "kernelspec": {
   "display_name": "Python 3 (ipykernel)",
   "language": "python",
   "name": "python3"
  },
  "language_info": {
   "codemirror_mode": {
    "name": "ipython",
    "version": 3
   },
   "file_extension": ".py",
   "mimetype": "text/x-python",
   "name": "python",
   "nbconvert_exporter": "python",
   "pygments_lexer": "ipython3",
   "version": "3.9.13"
  }
 },
 "nbformat": 4,
 "nbformat_minor": 5
}
